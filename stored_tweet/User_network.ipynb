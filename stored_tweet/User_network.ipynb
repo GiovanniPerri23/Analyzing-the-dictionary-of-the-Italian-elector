{
 "cells": [
  {
   "cell_type": "code",
   "execution_count": null,
   "id": "14e04f6f",
   "metadata": {},
   "outputs": [],
   "source": [
    "!pip install powerlaw==1.4.6"
   ]
  },
  {
   "cell_type": "code",
   "execution_count": null,
   "id": "c94e2b68",
   "metadata": {},
   "outputs": [],
   "source": [
    "from scipy.optimize import curve_fit\n",
    "from sklearn import preprocessing\n",
    "import networkx as nx\n",
    "import pandas as pd\n",
    "import numpy as np\n",
    "import re\n",
    "import seaborn as sns\n",
    "import matplotlib.pyplot as plt\n",
    "import nltk\n",
    "from nltk.probability import FreqDist\n",
    "import itertools\n",
    "import collections\n",
    "import powerlaw\n",
    "from nltk import bigrams\n",
    "from nltk.util import ngrams\n",
    "import os\n",
    "import glob\n",
    "import plotly.express as px\n",
    "import plotly.graph_objs as go\n",
    "from nltk.corpus import stopwords\n",
    "import string\n",
    "import math\n",
    "from sklearn.model_selection import train_test_split\n",
    "# use glob to get all the csv files in the folder\n",
    "\n"
   ]
  },
  {
   "cell_type": "code",
   "execution_count": null,
   "id": "62a16f5a",
   "metadata": {},
   "outputs": [],
   "source": [
    "df = pd.read_csv('df_tutti_1.csv')\n",
    "df.shape"
   ]
  },
  {
   "cell_type": "markdown",
   "id": "56256684",
   "metadata": {},
   "source": [
    "# Text preparation"
   ]
  },
  {
   "cell_type": "code",
   "execution_count": null,
   "id": "f0b65069",
   "metadata": {
    "scrolled": true
   },
   "outputs": [],
   "source": [
    "import string\n",
    "punctuation=string.punctuation.replace('+', '')\n",
    "def remove_punct(text):\n",
    "    text  = \"\".join([char for char in text if char not in punctuation])\n",
    "    return text\n",
    "\n",
    "df['Tweet_punct'] = df['renderedContent'].apply(lambda x: remove_punct(x) )\n",
    "\n",
    "df['Tweet_punct']"
   ]
  },
  {
   "cell_type": "code",
   "execution_count": null,
   "id": "59368fd1",
   "metadata": {},
   "outputs": [],
   "source": [
    "# words_in_tweet\n",
    "words_in_tweet = [tweet.lower().split() for tweet in df['Tweet_punct']]"
   ]
  },
  {
   "cell_type": "code",
   "execution_count": null,
   "id": "f90a291f",
   "metadata": {
    "scrolled": true
   },
   "outputs": [],
   "source": [
    "#Removing stop-word\n",
    "stop_words = set(stopwords.words('italian'))\n",
    "\n",
    "# Remove stop words from each tweet list of words\n",
    "tweets_nsw = [[word for word in tweet_words if not word in stop_words]\n",
    "              for tweet_words in words_in_tweet]\n",
    "\n",
    "#create a unique list from all tweets, and set to dataframe\n",
    "word= [item for sublist in tweets_nsw for item in sublist]\n",
    "words=pd.DataFrame()\n",
    "words['word']=word\n",
    "words['count'] = df.apply(lambda _: '', axis=1)\n",
    "tweets_nsw"
   ]
  },
  {
   "cell_type": "code",
   "execution_count": null,
   "id": "e5e7bf1c",
   "metadata": {
    "scrolled": false
   },
   "outputs": [],
   "source": [
    "#Create a ranking for the words\n",
    "frequ=FreqDist(word)\n",
    "rank=pd.DataFrame(frequ.items(), columns=['Word', 'Count'])\n",
    "rank=rank.set_index('Word')\n",
    "rank.sort_values(by=['Count'])"
   ]
  },
  {
   "cell_type": "code",
   "execution_count": null,
   "id": "088713f8",
   "metadata": {},
   "outputs": [],
   "source": [
    "df['renderedContent']=tweets_nsw"
   ]
  },
  {
   "cell_type": "markdown",
   "id": "9bf66d4d",
   "metadata": {},
   "source": [
    "# Create user and mentioned user lists"
   ]
  },
  {
   "cell_type": "code",
   "execution_count": null,
   "id": "ce5223ed",
   "metadata": {},
   "outputs": [],
   "source": [
    "user=[]\n",
    "for i in range(0, len(df['user'])):\n",
    "    c=df['user'][i].split(\"'\")\n",
    "    user.append(c[3])"
   ]
  },
  {
   "cell_type": "code",
   "execution_count": null,
   "id": "9f8e1fb4",
   "metadata": {
    "scrolled": true
   },
   "outputs": [],
   "source": [
    "use = np.array(user) \n",
    "unique_user = np.unique(use)\n",
    "len(unique_user)"
   ]
  },
  {
   "cell_type": "code",
   "execution_count": null,
   "id": "595fc952",
   "metadata": {},
   "outputs": [],
   "source": [
    "men_user=[[] for _ in range(0,len(df['mentionedUsers']))]\n",
    "\n",
    "for i in range(0,len(df['mentionedUsers'])):\n",
    "    if isinstance(df['mentionedUsers'][i],float):\n",
    "        men_user[i].append('nan')\n",
    "    else:\n",
    "        v=df['mentionedUsers'][i].split(\"{\")\n",
    "        v.remove(v[0])\n",
    "        if len(v)>1:\n",
    "            for j in range(0, len(v)-1):\n",
    "                d=v[j].split(\"'\")\n",
    "                men_user[i].append(d[3])\n",
    "        elif len(v)==1:\n",
    "            d=v[0].split(\"'\")\n",
    "            men_user[i].append(d[3])\n",
    "    \n",
    "    "
   ]
  },
  {
   "cell_type": "code",
   "execution_count": null,
   "id": "384d48c6",
   "metadata": {},
   "outputs": [],
   "source": [
    "df.drop(df.columns.difference(['renderedContent']), axis=1, inplace=True)"
   ]
  },
  {
   "cell_type": "code",
   "execution_count": null,
   "id": "95d2ace7",
   "metadata": {},
   "outputs": [],
   "source": [
    "df['user']=user\n",
    "df['men_user']=men_user"
   ]
  },
  {
   "cell_type": "markdown",
   "id": "07eb6896",
   "metadata": {},
   "source": [
    "# Build the Network"
   ]
  },
  {
   "cell_type": "code",
   "execution_count": null,
   "id": "02b7a1c3",
   "metadata": {
    "scrolled": true
   },
   "outputs": [],
   "source": [
    "# Create network plot\n",
    "G = nx.Graph()\n",
    "\n",
    "# Create connections between nodes\n",
    "for k ,v ,m in zip(df['user'].items(),df['men_user'].items(),df['renderedContent'].items()):\n",
    "    for i in range(0, len(v[1])):\n",
    "        if v[1][i]=='nan':pass\n",
    "        else:  \n",
    "            G.add_edge(k[1], v[1][i], tweet=m[1])        \n",
    "\n",
    "(G.number_of_nodes(),G.number_of_edges())"
   ]
  },
  {
   "cell_type": "code",
   "execution_count": null,
   "id": "2127a9d7",
   "metadata": {},
   "outputs": [],
   "source": [
    "G.remove_edges_from(nx.selfloop_edges(G))\n",
    "(G.number_of_nodes(),G.number_of_edges(),nx.density(G))"
   ]
  },
  {
   "cell_type": "code",
   "execution_count": null,
   "id": "bd4748f2",
   "metadata": {},
   "outputs": [],
   "source": [
    "nx.write_adjlist(G, \"elect_dict.edgelist\")"
   ]
  },
  {
   "cell_type": "code",
   "execution_count": null,
   "id": "2b89ef8a",
   "metadata": {},
   "outputs": [],
   "source": [
    "k = nx.degree_histogram(G)\n",
    "sig=np.array(k[1:])\n",
    "\n",
    "\n",
    "# define the function to fit\n",
    "def expfunc(x, a , b):\n",
    "    return a*pow(x,-b)\n",
    "\n",
    "# bin the degree distribution\n",
    "bins = np.arange(len(k))\n",
    "hist = nx.degree_histogram(G)\n",
    "\n",
    "# fit the logarithm of the degree distribution to a linear function\n",
    "x = bins[1:]\n",
    "y = np.log(hist)\n",
    "\n",
    "popt, pcov = curve_fit(expfunc, x, k[1:], sigma=sig+10, absolute_sigma=True) \n",
    "#NB:what we are going to use as sigma?\n",
    "\n",
    "# plot the degree distribution and the fitted distribution on a logarithmic scale\n",
    "plt.plot(range(0, len(hist)), hist,'.',label='degree distribution')\n",
    "plt.plot(x, expfunc(x, *popt), 'r--', label='fitted distribution')\n",
    "plt.plot(x, expfunc(x, popt[0], 3.0), 'g--', label='gamma=3')\n",
    "plt.legend()\n",
    "plt.ylim( (10**-1,10**3.5) )\n",
    "plt.xlim( (10**0,10**3.5) )\n",
    "plt.xscale('log')\n",
    "plt.yscale('log')\n",
    "plt.show()\n",
    "\n",
    "# print the estimated value of b\n",
    "print(f\"Gamma={popt[1]}\")"
   ]
  },
  {
   "cell_type": "code",
   "execution_count": null,
   "id": "0204b57a",
   "metadata": {},
   "outputs": [],
   "source": []
  }
 ],
 "metadata": {
  "kernelspec": {
   "display_name": "Python 3 (ipykernel)",
   "language": "python",
   "name": "python3"
  },
  "language_info": {
   "codemirror_mode": {
    "name": "ipython",
    "version": 3
   },
   "file_extension": ".py",
   "mimetype": "text/x-python",
   "name": "python",
   "nbconvert_exporter": "python",
   "pygments_lexer": "ipython3",
   "version": "3.9.13"
  }
 },
 "nbformat": 4,
 "nbformat_minor": 5
}
