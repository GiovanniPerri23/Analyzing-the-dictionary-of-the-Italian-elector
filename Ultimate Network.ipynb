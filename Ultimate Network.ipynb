{
 "cells": [
  {
   "cell_type": "code",
   "execution_count": null,
   "metadata": {},
   "outputs": [],
   "source": [
    "!pip install twitter \n",
    "!pip install NetworkX\n",
    "!pip install powerlaw\n",
    "!pip install string\n",
    "!pip install textblob"
   ]
  },
  {
   "cell_type": "code",
   "execution_count": 2,
   "metadata": {},
   "outputs": [],
   "source": [
    "import powerlaw\n",
    "import pandas as pd\n",
    "from textblob import TextBlob\n",
    "import requests\n",
    "import pickle\n",
    "import json\n",
    "import os\n",
    "import numpy as np\n",
    "import matplotlib.pyplot as plt\n",
    "import seaborn as sns\n",
    "import itertools\n",
    "import collections\n",
    "import nltk\n",
    "from nltk import ngrams\n",
    "from nltk.corpus import stopwords\n",
    "import re\n",
    "import networkx as nx\n",
    "import string\n",
    "import re\n",
    "from itertools import combinations"
   ]
  },
  {
   "cell_type": "code",
   "execution_count": 5,
   "metadata": {},
   "outputs": [
    {
     "name": "stderr",
     "output_type": "stream",
     "text": [
      "[nltk_data] Downloading package stopwords to\n",
      "[nltk_data]     C:\\Users\\marco\\AppData\\Roaming\\nltk_data...\n",
      "[nltk_data]   Package stopwords is already up-to-date!\n",
      "[nltk_data] Downloading package punkt to\n",
      "[nltk_data]     C:\\Users\\marco\\AppData\\Roaming\\nltk_data...\n",
      "[nltk_data]   Package punkt is already up-to-date!\n"
     ]
    },
    {
     "ename": "NameError",
     "evalue": "name 'comb_tag' is not defined",
     "output_type": "error",
     "traceback": [
      "\u001b[1;31m---------------------------------------------------------------------------\u001b[0m",
      "\u001b[1;31mNameError\u001b[0m                                 Traceback (most recent call last)",
      "\u001b[1;32m<ipython-input-5-4206a8bb3a6f>\u001b[0m in \u001b[0;36m<module>\u001b[1;34m\u001b[0m\n\u001b[0;32m     75\u001b[0m \u001b[1;33m\u001b[0m\u001b[0m\n\u001b[0;32m     76\u001b[0m \u001b[1;31m#dataframe finale ordinato per i counts con bigramma e tags\u001b[0m\u001b[1;33m\u001b[0m\u001b[1;33m\u001b[0m\u001b[1;33m\u001b[0m\u001b[0m\n\u001b[1;32m---> 77\u001b[1;33m \u001b[0mfinal_bi\u001b[0m\u001b[1;33m=\u001b[0m\u001b[0mpd\u001b[0m\u001b[1;33m.\u001b[0m\u001b[0mmerge\u001b[0m\u001b[1;33m(\u001b[0m\u001b[0mleft\u001b[0m\u001b[1;33m=\u001b[0m\u001b[0mcomb_tag\u001b[0m\u001b[1;33m,\u001b[0m \u001b[0mright\u001b[0m\u001b[1;33m=\u001b[0m\u001b[0mbigram_df\u001b[0m\u001b[1;33m,\u001b[0m \u001b[0mon\u001b[0m\u001b[1;33m=\u001b[0m\u001b[1;34m'bigram'\u001b[0m\u001b[1;33m)\u001b[0m\u001b[1;33m\u001b[0m\u001b[1;33m\u001b[0m\u001b[0m\n\u001b[0m\u001b[0;32m     78\u001b[0m \u001b[0mfinal_bi\u001b[0m\u001b[1;33m.\u001b[0m\u001b[0msort_values\u001b[0m\u001b[1;33m(\u001b[0m\u001b[0mby\u001b[0m\u001b[1;33m=\u001b[0m\u001b[1;33m[\u001b[0m\u001b[1;34m'count'\u001b[0m\u001b[1;33m]\u001b[0m\u001b[1;33m,\u001b[0m \u001b[0mascending\u001b[0m\u001b[1;33m=\u001b[0m\u001b[1;32mFalse\u001b[0m\u001b[1;33m,\u001b[0m \u001b[0minplace\u001b[0m\u001b[1;33m=\u001b[0m\u001b[1;32mTrue\u001b[0m\u001b[1;33m)\u001b[0m\u001b[1;33m\u001b[0m\u001b[1;33m\u001b[0m\u001b[0m\n",
      "\u001b[1;31mNameError\u001b[0m: name 'comb_tag' is not defined"
     ]
    }
   ],
   "source": [
    "\n",
    "\n",
    "df = pd.read_csv('df_tutti.csv')\n",
    "\n",
    "def remove_punct(text):\n",
    "    text  = \"\".join([char for char in text if char not in string.punctuation.replace('#','')])\n",
    "    #text = re.sub('[0-9]+', '', text)\n",
    "    return text\n",
    "\n",
    "def remove_hashtags(text):\n",
    "    # Define the regular expression pattern to match words starting with \"#\"\n",
    "    pattern = re.compile(r\"\\B#\\w\\w+\\b\\s*\")\n",
    "\n",
    "    # Use the sub() function to replace matched patterns with an empty string\n",
    "    result = pattern.sub(\"\", text)\n",
    "\n",
    "    return result\n",
    "\n",
    "def remove_useless_words(text):\n",
    "    stop_words = set(stopwords.words('italian'))\n",
    "\n",
    "def combina(text):\n",
    "    comb=list(combinations(text, 2))\n",
    "    return comb\n",
    "\n",
    "#rimuoviamo dai tweet punteggiatura, hashtags e i tweet senza hashtags\n",
    "    \n",
    "df=df.drop_duplicates('tweet', keep='first')\n",
    "df['Tweet_punct'] = df['tweet'].apply(lambda x: remove_punct(x))\n",
    "\n",
    "df['Tweet_punct']=df['Tweet_punct'].apply(lambda x: remove_hashtags(x))\n",
    "\n",
    "\n",
    "df['#'] = df['hashtags'].apply(lambda x: remove_punct(x)) \n",
    "mask = df['#'].str.len() > 0\n",
    "df = df[mask]\n",
    "\n",
    "\n",
    "#rimuoviamo dai tweet parole inutili e inferiori a lunghezza 3\n",
    "nltk.download('stopwords')\n",
    "nltk.download('punkt')\n",
    "stop_words = set(stopwords.words('italian'))\n",
    "\n",
    "tweets = [tweet.lower().split() for tweet in df['Tweet_punct']]\n",
    "tags = [t.lower().split() for t in df['#']]\n",
    "tweets = [[word for word in tweet_words if not word in stop_words] for tweet_words in tweets]\n",
    "tweets = [[word for word in tweet_words if len(word) >3] for tweet_words in tweets]\n",
    "\n",
    "\n",
    "#creiamo dataframe (df_bigram_counts) con qualsiasi bigramma in un tweet e relativo counts tra i tweet\n",
    "for i in range(0,len(tweets)):\n",
    "    if i==0:\n",
    "        comb=list(combinations(tweets[i], 2))\n",
    "    else:\n",
    "        comb[len(comb):]=list(combinations(tweets[i], 2))\n",
    "bigram_counts = collections.Counter(comb)\n",
    "\n",
    "df_bigram_counts = pd.DataFrame(bigram_counts.most_common(len(bigram_counts)), columns=['bigram', 'count'])\n",
    "\n",
    "\n",
    "#creiamo dataframe (df_bigram_tags)con bigramma e tutti i relativi hashtag tra i tweet\n",
    "\n",
    "comb_tag_df2=pd.DataFrame()\n",
    "comb_tag_df2['words']=tweets\n",
    "comb_tag_df2['tags']=tags\n",
    "\n",
    "combina=[]\n",
    "all_t=[]\n",
    "for w, t in comb_tag_df2.values:\n",
    "    for bi in list(combinations(w,2)):\n",
    "        combina.append(bi)\n",
    "        all_t.append(t)\n",
    "df_bigram_tags=pd.DataFrame()\n",
    "df_bigram_tags['bigram']=combina\n",
    "df_bigram_tags['tags']=all_t\n",
    "df_bigram_tags=df_bigram_tags.groupby(['bigram']).sum()\n",
    "\n"
   ]
  },
  {
   "cell_type": "code",
   "execution_count": 55,
   "metadata": {},
   "outputs": [
    {
     "data": {
      "text/html": [
       "<div>\n",
       "<style scoped>\n",
       "    .dataframe tbody tr th:only-of-type {\n",
       "        vertical-align: middle;\n",
       "    }\n",
       "\n",
       "    .dataframe tbody tr th {\n",
       "        vertical-align: top;\n",
       "    }\n",
       "\n",
       "    .dataframe thead th {\n",
       "        text-align: right;\n",
       "    }\n",
       "</style>\n",
       "<table border=\"1\" class=\"dataframe\">\n",
       "  <thead>\n",
       "    <tr style=\"text-align: right;\">\n",
       "      <th></th>\n",
       "      <th>bigram</th>\n",
       "      <th>tags</th>\n",
       "      <th>count</th>\n",
       "    </tr>\n",
       "  </thead>\n",
       "  <tbody>\n",
       "    <tr>\n",
       "      <th>600989</th>\n",
       "      <td>(partito, democratico)</td>\n",
       "      <td>[redditodicittadinanza, letta, pdnetwork, elez...</td>\n",
       "      <td>468</td>\n",
       "    </tr>\n",
       "    <tr>\n",
       "      <th>359529</th>\n",
       "      <td>(giorgia, meloni)</td>\n",
       "      <td>[elezionipolitiche22, 25settembre, inonda, pia...</td>\n",
       "      <td>327</td>\n",
       "    </tr>\n",
       "    <tr>\n",
       "      <th>109153</th>\n",
       "      <td>(campagna, elettorale)</td>\n",
       "      <td>[25settembre, elezionipolitiche2022, dazndown,...</td>\n",
       "      <td>213</td>\n",
       "    </tr>\n",
       "    <tr>\n",
       "      <th>378158</th>\n",
       "      <td>(governo, meloni)</td>\n",
       "      <td>[enews, 25settembre, terzopolo, italiasulserio...</td>\n",
       "      <td>132</td>\n",
       "    </tr>\n",
       "    <tr>\n",
       "      <th>183305</th>\n",
       "      <td>(cordiali, saluti)</td>\n",
       "      <td>[governomeloni, governomeloni, governomeloni, ...</td>\n",
       "      <td>130</td>\n",
       "    </tr>\n",
       "    <tr>\n",
       "      <th>...</th>\n",
       "      <td>...</td>\n",
       "      <td>...</td>\n",
       "      <td>...</td>\n",
       "    </tr>\n",
       "    <tr>\n",
       "      <th>338704</th>\n",
       "      <td>(fragile, httpstco77uzfonwei)</td>\n",
       "      <td>[25settembre, pierpaolopiccioli, elezionipolit...</td>\n",
       "      <td>1</td>\n",
       "    </tr>\n",
       "    <tr>\n",
       "      <th>338705</th>\n",
       "      <td>(fragile, httpstcouxemvpedgk)</td>\n",
       "      <td>[25settembre, pierpaolopiccioli, elezionipolit...</td>\n",
       "      <td>1</td>\n",
       "    </tr>\n",
       "    <tr>\n",
       "      <th>338706</th>\n",
       "      <td>(fragile, instagram)</td>\n",
       "      <td>[25settembre, pierpaolopiccioli, elezionipolit...</td>\n",
       "      <td>1</td>\n",
       "    </tr>\n",
       "    <tr>\n",
       "      <th>338707</th>\n",
       "      <td>(fragile, passaggio)</td>\n",
       "      <td>[25settembre, pierpaolopiccioli, elezionipolit...</td>\n",
       "      <td>1</td>\n",
       "    </tr>\n",
       "    <tr>\n",
       "      <th>960423</th>\n",
       "      <td>(🧿🧿👊👊, httpstcoiqh6auq1oa)</td>\n",
       "      <td>[sipahi, özgegürel, sipahi]</td>\n",
       "      <td>1</td>\n",
       "    </tr>\n",
       "  </tbody>\n",
       "</table>\n",
       "<p>960424 rows × 3 columns</p>\n",
       "</div>"
      ],
      "text/plain": [
       "                               bigram  \\\n",
       "600989         (partito, democratico)   \n",
       "359529              (giorgia, meloni)   \n",
       "109153         (campagna, elettorale)   \n",
       "378158              (governo, meloni)   \n",
       "183305             (cordiali, saluti)   \n",
       "...                               ...   \n",
       "338704  (fragile, httpstco77uzfonwei)   \n",
       "338705  (fragile, httpstcouxemvpedgk)   \n",
       "338706           (fragile, instagram)   \n",
       "338707           (fragile, passaggio)   \n",
       "960423     (🧿🧿👊👊, httpstcoiqh6auq1oa)   \n",
       "\n",
       "                                                     tags  count  \n",
       "600989  [redditodicittadinanza, letta, pdnetwork, elez...    468  \n",
       "359529  [elezionipolitiche22, 25settembre, inonda, pia...    327  \n",
       "109153  [25settembre, elezionipolitiche2022, dazndown,...    213  \n",
       "378158  [enews, 25settembre, terzopolo, italiasulserio...    132  \n",
       "183305  [governomeloni, governomeloni, governomeloni, ...    130  \n",
       "...                                                   ...    ...  \n",
       "338704  [25settembre, pierpaolopiccioli, elezionipolit...      1  \n",
       "338705  [25settembre, pierpaolopiccioli, elezionipolit...      1  \n",
       "338706  [25settembre, pierpaolopiccioli, elezionipolit...      1  \n",
       "338707  [25settembre, pierpaolopiccioli, elezionipolit...      1  \n",
       "960423                        [sipahi, özgegürel, sipahi]      1  \n",
       "\n",
       "[960424 rows x 3 columns]"
      ]
     },
     "execution_count": 55,
     "metadata": {},
     "output_type": "execute_result"
    }
   ],
   "source": [
    "df_final"
   ]
  },
  {
   "cell_type": "code",
   "execution_count": 18,
   "metadata": {},
   "outputs": [],
   "source": [
    "\n",
    "#dataframe finale ordinato per i counts con bigramma e tags\n",
    "df_final=pd.merge(left=df_bigram_tags, right=df_bigram_counts, on='bigram')\n",
    "df_final.sort_values(by=['count'], ascending=False, inplace=True)\n"
   ]
  },
  {
   "cell_type": "code",
   "execution_count": 56,
   "metadata": {},
   "outputs": [],
   "source": [
    "G = nx.Graph()\n",
    "s=[]\n",
    "\n",
    "# Create connections between nodes\n",
    "for k, t,v in df_final.values[:110267]:\n",
    "    G.add_edge(k[0], k[1], weight=(1/v), attribute1=t)\n",
    "    s.append(1/v)"
   ]
  },
  {
   "cell_type": "code",
   "execution_count": 57,
   "metadata": {},
   "outputs": [
    {
     "name": "stdout",
     "output_type": "stream",
     "text": [
      "13464 99415\n"
     ]
    }
   ],
   "source": [
    "print(G.number_of_nodes(),G.number_of_edges())"
   ]
  },
  {
   "cell_type": "code",
   "execution_count": 58,
   "metadata": {},
   "outputs": [
    {
     "data": {
      "text/plain": [
       "(array([7.0000e+00, 2.4000e+01, 2.2000e+01, 3.8000e+01, 4.0000e+01,\n",
       "        6.3000e+01, 9.1000e+01, 1.1900e+02, 8.8000e+01, 1.5200e+02,\n",
       "        1.1500e+02, 2.7400e+02, 2.7000e+02, 0.0000e+00, 3.1400e+02,\n",
       "        3.2200e+02, 4.7300e+02, 0.0000e+00, 6.6400e+02, 0.0000e+00,\n",
       "        0.0000e+00, 9.2700e+02, 0.0000e+00, 0.0000e+00, 1.2200e+03,\n",
       "        0.0000e+00, 0.0000e+00, 0.0000e+00, 2.1520e+03, 0.0000e+00,\n",
       "        0.0000e+00, 0.0000e+00, 0.0000e+00, 0.0000e+00, 3.4300e+03,\n",
       "        0.0000e+00, 0.0000e+00, 0.0000e+00, 0.0000e+00, 0.0000e+00,\n",
       "        0.0000e+00, 0.0000e+00, 7.2460e+03, 0.0000e+00, 0.0000e+00,\n",
       "        0.0000e+00, 0.0000e+00, 0.0000e+00, 0.0000e+00, 0.0000e+00,\n",
       "        0.0000e+00, 0.0000e+00, 0.0000e+00, 0.0000e+00, 0.0000e+00,\n",
       "        0.0000e+00, 0.0000e+00, 1.7430e+04, 0.0000e+00, 0.0000e+00,\n",
       "        0.0000e+00, 0.0000e+00, 0.0000e+00, 0.0000e+00, 0.0000e+00,\n",
       "        0.0000e+00, 0.0000e+00, 0.0000e+00, 0.0000e+00, 0.0000e+00,\n",
       "        0.0000e+00, 0.0000e+00, 0.0000e+00, 0.0000e+00, 0.0000e+00,\n",
       "        0.0000e+00, 0.0000e+00, 0.0000e+00, 0.0000e+00, 0.0000e+00,\n",
       "        0.0000e+00, 0.0000e+00, 0.0000e+00, 0.0000e+00, 0.0000e+00,\n",
       "        7.4786e+04]),\n",
       " array([0.00213675, 0.00792586, 0.01371497, 0.01950407, 0.02529318,\n",
       "        0.03108229, 0.0368714 , 0.0426605 , 0.04844961, 0.05423872,\n",
       "        0.06002783, 0.06581694, 0.07160604, 0.07739515, 0.08318426,\n",
       "        0.08897337, 0.09476247, 0.10055158, 0.10634069, 0.1121298 ,\n",
       "        0.1179189 , 0.12370801, 0.12949712, 0.13528623, 0.14107533,\n",
       "        0.14686444, 0.15265355, 0.15844266, 0.16423176, 0.17002087,\n",
       "        0.17580998, 0.18159909, 0.18738819, 0.1931773 , 0.19896641,\n",
       "        0.20475552, 0.21054462, 0.21633373, 0.22212284, 0.22791195,\n",
       "        0.23370105, 0.23949016, 0.24527927, 0.25106838, 0.25685748,\n",
       "        0.26264659, 0.2684357 , 0.27422481, 0.28001391, 0.28580302,\n",
       "        0.29159213, 0.29738124, 0.30317034, 0.30895945, 0.31474856,\n",
       "        0.32053767, 0.32632677, 0.33211588, 0.33790499, 0.3436941 ,\n",
       "        0.3494832 , 0.35527231, 0.36106142, 0.36685053, 0.37263963,\n",
       "        0.37842874, 0.38421785, 0.39000696, 0.39579606, 0.40158517,\n",
       "        0.40737428, 0.41316339, 0.41895249, 0.4247416 , 0.43053071,\n",
       "        0.43631982, 0.44210892, 0.44789803, 0.45368714, 0.45947625,\n",
       "        0.46526535, 0.47105446, 0.47684357, 0.48263268, 0.48842178,\n",
       "        0.49421089, 0.5       ]),\n",
       " <BarContainer object of 86 artists>)"
      ]
     },
     "execution_count": 58,
     "metadata": {},
     "output_type": "execute_result"
    },
    {
     "data": {
      "image/png": "[encoded data removed]",
      "text/plain": [
       "<Figure size 432x288 with 1 Axes>"
      ]
     },
     "metadata": {
      "needs_background": "light"
     },
     "output_type": "display_data"
    }
   ],
   "source": [
    "import matplotlib.pyplot as plt\n",
    "\n",
    "figura, grafico = plt.subplots()\n",
    "grafico.hist(s, \n",
    "             bins = len(np.unique(s)))"
   ]
  },
  {
   "cell_type": "code",
   "execution_count": 59,
   "metadata": {},
   "outputs": [
    {
     "data": {
      "text/plain": [
       "[]"
      ]
     },
     "execution_count": 59,
     "metadata": {},
     "output_type": "execute_result"
    },
    {
     "data": {
      "image/png": "[encoded data removed]",
      "text/plain": [
       "<Figure size 432x288 with 1 Axes>"
      ]
     },
     "metadata": {
      "needs_background": "light"
     },
     "output_type": "display_data"
    }
   ],
   "source": [
    "hist = nx.degree_histogram(G)\n",
    "\n",
    "plt.plot(range(0, len(hist)), hist,'.')\n",
    "#plt.plot(range(0, len(hist2)), hist,'-')\n",
    "plt.title(\"Degree Distribution\")\n",
    "plt.xlabel(\"Degree\")\n",
    "plt.ylabel(\"#Nodes\")\n",
    "# plt.ylim(0,50)\n",
    "# plt.xlim(0,1)\n",
    "plt.loglog()\n",
    "# plt.show()"
   ]
  }
 ],
 "metadata": {
  "kernelspec": {
   "display_name": "Python 3",
   "language": "python",
   "name": "python3"
  },
  "language_info": {
   "codemirror_mode": {
    "name": "ipython",
    "version": 3
   },
   "file_extension": ".py",
   "mimetype": "text/x-python",
   "name": "python",
   "nbconvert_exporter": "python",
   "pygments_lexer": "ipython3",
   "version": "3.8.5"
  }
 },
 "nbformat": 4,
 "nbformat_minor": 4
}
