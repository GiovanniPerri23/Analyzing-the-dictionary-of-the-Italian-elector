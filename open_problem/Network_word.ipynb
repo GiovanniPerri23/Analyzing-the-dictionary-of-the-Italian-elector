{
 "cells": [
  {
   "cell_type": "code",
   "execution_count": 1,
   "id": "14e04f6f",
   "metadata": {},
   "outputs": [
    {
     "name": "stdout",
     "output_type": "stream",
     "text": [
      "Requirement already satisfied: powerlaw==1.4.6 in c:\\users\\emanu\\anaconda3\\lib\\site-packages (1.4.6)\n",
      "Requirement already satisfied: scipy in c:\\users\\emanu\\anaconda3\\lib\\site-packages (from powerlaw==1.4.6) (1.9.1)\n",
      "Requirement already satisfied: matplotlib in c:\\users\\emanu\\anaconda3\\lib\\site-packages (from powerlaw==1.4.6) (3.5.2)\n",
      "Requirement already satisfied: numpy in c:\\users\\emanu\\anaconda3\\lib\\site-packages (from powerlaw==1.4.6) (1.21.5)\n",
      "Requirement already satisfied: mpmath in c:\\users\\emanu\\anaconda3\\lib\\site-packages (from powerlaw==1.4.6) (1.2.1)\n",
      "Requirement already satisfied: packaging>=20.0 in c:\\users\\emanu\\anaconda3\\lib\\site-packages (from matplotlib->powerlaw==1.4.6) (21.3)\n",
      "Requirement already satisfied: pillow>=6.2.0 in c:\\users\\emanu\\anaconda3\\lib\\site-packages (from matplotlib->powerlaw==1.4.6) (9.2.0)\n",
      "Requirement already satisfied: fonttools>=4.22.0 in c:\\users\\emanu\\anaconda3\\lib\\site-packages (from matplotlib->powerlaw==1.4.6) (4.25.0)\n",
      "Requirement already satisfied: cycler>=0.10 in c:\\users\\emanu\\anaconda3\\lib\\site-packages (from matplotlib->powerlaw==1.4.6) (0.11.0)\n",
      "Requirement already satisfied: pyparsing>=2.2.1 in c:\\users\\emanu\\anaconda3\\lib\\site-packages (from matplotlib->powerlaw==1.4.6) (3.0.9)\n",
      "Requirement already satisfied: kiwisolver>=1.0.1 in c:\\users\\emanu\\anaconda3\\lib\\site-packages (from matplotlib->powerlaw==1.4.6) (1.4.2)\n",
      "Requirement already satisfied: python-dateutil>=2.7 in c:\\users\\emanu\\anaconda3\\lib\\site-packages (from matplotlib->powerlaw==1.4.6) (2.8.2)\n",
      "Requirement already satisfied: six>=1.5 in c:\\users\\emanu\\anaconda3\\lib\\site-packages (from python-dateutil>=2.7->matplotlib->powerlaw==1.4.6) (1.16.0)\n"
     ]
    }
   ],
   "source": [
    "!pip install powerlaw==1.4.6"
   ]
  },
  {
   "cell_type": "code",
   "execution_count": 1,
   "id": "c94e2b68",
   "metadata": {},
   "outputs": [],
   "source": [
    "from scipy.optimize import curve_fit\n",
    "from sklearn import preprocessing\n",
    "import networkx as nx\n",
    "import pandas as pd\n",
    "import numpy as np\n",
    "import re\n",
    "import seaborn as sns\n",
    "import matplotlib.pyplot as plt\n",
    "import nltk\n",
    "from nltk.probability import FreqDist\n",
    "import itertools\n",
    "import collections\n",
    "import powerlaw\n",
    "from nltk import bigrams\n",
    "from nltk.util import ngrams\n",
    "import os\n",
    "import glob\n",
    "import plotly.express as px\n",
    "import plotly.graph_objs as go\n",
    "from nltk.corpus import stopwords\n",
    "import string\n",
    "# use glob to get all the csv files in the folder\n",
    "\n"
   ]
  },
  {
   "cell_type": "code",
   "execution_count": 2,
   "id": "9f8e1fb4",
   "metadata": {
    "scrolled": true
   },
   "outputs": [
    {
     "data": {
      "text/plain": [
       "(53581, 30)"
      ]
     },
     "execution_count": 2,
     "metadata": {},
     "output_type": "execute_result"
    }
   ],
   "source": [
    "#Upload the file.csv for tweets\n",
    "\n",
    "df = pd.read_csv('df_tutti_1.csv')\n",
    "df.shape"
   ]
  },
  {
   "cell_type": "code",
   "execution_count": 3,
   "id": "384d48c6",
   "metadata": {},
   "outputs": [
    {
     "data": {
      "text/plain": [
       "(53581, 2)"
      ]
     },
     "execution_count": 3,
     "metadata": {},
     "output_type": "execute_result"
    }
   ],
   "source": [
    "df.drop(df.columns.difference(['date','renderedContent']), axis=1, inplace=True)\n",
    "df.shape"
   ]
  },
  {
   "cell_type": "code",
   "execution_count": 4,
   "id": "be4f6d7d",
   "metadata": {
    "scrolled": false
   },
   "outputs": [
    {
     "data": {
      "text/plain": [
       "(53581, 2)"
      ]
     },
     "execution_count": 4,
     "metadata": {},
     "output_type": "execute_result"
    }
   ],
   "source": [
    "df=df.drop_duplicates('renderedContent', keep='first')\n",
    "df.shape"
   ]
  },
  {
   "cell_type": "code",
   "execution_count": 5,
   "id": "2a4cc33a",
   "metadata": {
    "scrolled": false
   },
   "outputs": [
    {
     "name": "stderr",
     "output_type": "stream",
     "text": [
      "C:\\Users\\emanu\\AppData\\Local\\Temp\\ipykernel_6808\\270900273.py:12: FutureWarning: The default value of regex will change from True to False in a future version.\n",
      "  df['Tweet_punct'] = df['renderedContent'].str.replace(r'@\\w+', '')\n",
      "C:\\Users\\emanu\\AppData\\Local\\Temp\\ipykernel_6808\\270900273.py:14: FutureWarning: The default value of regex will change from True to False in a future version.\n",
      "  df['Tweet_punct'] = df['Tweet_punct'].str.replace('[{}]'.format(string.punctuation), '')\n",
      "C:\\Users\\emanu\\AppData\\Local\\Temp\\ipykernel_6808\\270900273.py:19: FutureWarning: The default value of regex will change from True to False in a future version.\n",
      "  df['Tweet_punct'] = df['Tweet_punct'].str.replace('\\d+', '')\n",
      "C:\\Users\\emanu\\AppData\\Local\\Temp\\ipykernel_6808\\270900273.py:22: FutureWarning: The default value of regex will change from True to False in a future version.\n",
      "  df['Tweet_punct'] = df['Tweet_punct'].str.replace('[^\\w\\s]','').str.lower()\n"
     ]
    },
    {
     "data": {
      "text/plain": [
       "0            ha chiuso i rubinetti del gas a tutta euro...\n",
       "1         la francia non ha nessun motivo di fare parch...\n",
       "2            premetto che io non difendo putin e lo det...\n",
       "3                             tra mpo saranno cazzi vostri\n",
       "4         non una ma  volte siiiiiiiii la lira con ital...\n",
       "                               ...                        \n",
       "53576      a linea notte sta venendo fuori la ipocrisia...\n",
       "53577    prima pagina il mattino  melonisalvini prove d...\n",
       "53578     più che plausibile che salvini parta dal vimi...\n",
       "53579    la trincea di salvini e giorgetti avverte io p...\n",
       "53580    no ma credo che nel caso sarebbe lo stesso mat...\n",
       "Name: Tweet_punct, Length: 53581, dtype: object"
      ]
     },
     "execution_count": 5,
     "metadata": {},
     "output_type": "execute_result"
    }
   ],
   "source": [
    "#Text cleaning\n",
    "\n",
    "import string\n",
    "punctuation=string.punctuation.replace('+', '')\n",
    "def remove_punct(text):\n",
    "    text  = \"\".join([char for char in text if char not in punctuation])\n",
    "    text = re.sub('[0-9]', '', text)\n",
    "    return text\n",
    "\n",
    "df['Tweet_punct'] = df['renderedContent'].apply(lambda x: remove_punct(x) )\n",
    "# Rimuovo le menzioni, cioè parole che iniziano per @\n",
    "df['Tweet_punct'] = df['renderedContent'].str.replace(r'@\\w+', '')\n",
    "\n",
    "df['Tweet_punct'] = df['Tweet_punct'].str.replace('[{}]'.format(string.punctuation), '')\n",
    "\n",
    "# Rimuovo gli articoli apostrofati e i numeri\n",
    "df['Tweet_punct'] = df['Tweet_punct'].str.replace(\"l’\", '')\n",
    "df['Tweet_punct'] = df['Tweet_punct'].str.replace(\"un’\", '')\n",
    "df['Tweet_punct'] = df['Tweet_punct'].str.replace('\\d+', '')\n",
    "\n",
    "# Remove punctuation and convert to lowercase\n",
    "df['Tweet_punct'] = df['Tweet_punct'].str.replace('[^\\w\\s]','').str.lower()\n",
    "df['Tweet_punct']"
   ]
  },
  {
   "cell_type": "code",
   "execution_count": 6,
   "id": "2b0e7190",
   "metadata": {},
   "outputs": [],
   "source": [
    "#Split all the words in a tweet and save them\n",
    "\n",
    "words_in_tweet = [tweet.lower().split() for tweet in df['Tweet_punct']]"
   ]
  },
  {
   "cell_type": "code",
   "execution_count": 22,
   "id": "8f0562cc",
   "metadata": {
    "scrolled": false
   },
   "outputs": [],
   "source": [
    "# Further text cleaning from stopwords\n",
    "\n",
    "stop_words = set(stopwords.words('italian'))\n",
    "\n",
    "# Define a list of Italian adverbs to filter out\n",
    "italian_adverbs = ['fare', 'così', 'come', 'dove', 'quando', 'perché', 'anche', 'ancora', 'meno', 'molto', 'poco', 'bene', 'poi', 'fin', 'male', 'cosa' , 'meno', 'sono' ,'della', 'solo', 'fatto', 'essere', 'sempre', 'senza', 'dopo', 'parte', 'dire', 'dice', 'pure', 'nessun','invece', 'ogni', 'altro', 'meglio', 'nulla', 'tanto', 'oggi', 'quel', 'deve', 'cose', 'quindi']\n",
    "stop_words.update(italian_adverbs)\n",
    "\n",
    "#Remove stopwords and italian_adverbs\n",
    "tweets_nsw = [[word for word in tweet_words if not word in  stop_words]\n",
    "              for tweet_words in words_in_tweet]\n",
    "\n",
    "\n",
    "\n",
    "#create a unique list from all tweets, and set to dataframe (words)\n",
    "\n",
    "word= [item for sublist in tweets_nsw for item in sublist]\n",
    "words=pd.DataFrame()\n",
    "words['word']=word\n",
    "words['count'] = df.apply(lambda _: '', axis=1)"
   ]
  },
  {
   "cell_type": "code",
   "execution_count": 23,
   "id": "cf387dbc",
   "metadata": {
    "scrolled": true
   },
   "outputs": [
    {
     "data": {
      "text/plain": [
       "680965"
      ]
     },
     "execution_count": 23,
     "metadata": {},
     "output_type": "execute_result"
    }
   ],
   "source": [
    "pd.set_option('display.max_rows', 1000)\n",
    "pd.set_option('display.max_columns', 500)\n",
    "\n",
    "\n",
    "#Remove word with len<val_low or len>val_upp in the list with all words\n",
    "\n",
    "def remove_values_from_list(the_list, val_low, val_upp):\n",
    "    return [value for value in the_list if ((len(value)>=val_low)or(len(value)<=val_upp))]\n",
    "\n",
    "y=remove_values_from_list(word, 3, 30)\n",
    "len(y)"
   ]
  },
  {
   "cell_type": "code",
   "execution_count": 25,
   "id": "2ec25a2a",
   "metadata": {},
   "outputs": [],
   "source": [
    "# Count the word in the list with all words in tweets in order to make a ranking and save it\n",
    "\n",
    "frequ=FreqDist(y)\n",
    "rank=pd.DataFrame(frequ.items(), columns=['Word', 'Count'])\n",
    "rank=rank.set_index('Word')\n",
    "rank.sort_values(by=['Count'])\n",
    "rank.to_csv('words_ranking1.csv')"
   ]
  },
  {
   "cell_type": "code",
   "execution_count": 27,
   "id": "eafd9f00",
   "metadata": {},
   "outputs": [],
   "source": [
    "#Remove word with len<val_low len>val_upp  in the list of list, the words divided by tweets \n",
    "\n",
    "def remove_values_from_listoflist(the_list, val_low, val_upp):\n",
    "    for i in range(0,len(the_list)):\n",
    "        r=[value for value in the_list[i] if ((len(value)<val_low)or(len(value)>val_upp))]\n",
    "        for j in range(0, len(r)):\n",
    "            the_list[i].remove(r[j])\n",
    "    return the_list\n",
    "z=remove_values_from_listoflist(tweets_nsw, 3, 30)"
   ]
  },
  {
   "cell_type": "code",
   "execution_count": 28,
   "id": "66a673f3",
   "metadata": {},
   "outputs": [],
   "source": [
    "#Remove word with len<val in the list of list, the words divided by tweets \n",
    "\n",
    "def remove_values_by_rank(the_list, val1):\n",
    "    for i in range(0,len(the_list)):\n",
    "        r=[value for value in the_list[i] if (rank.loc[value]['Count']<val1)]\n",
    "        for j in range(0, len(r)):\n",
    "            the_list[i].remove(r[j])\n",
    "    return the_list\n"
   ]
  },
  {
   "cell_type": "code",
   "execution_count": 29,
   "id": "02fec4b7",
   "metadata": {},
   "outputs": [],
   "source": [
    "#Use one of the two methods above\n",
    "\n",
    "x=remove_values_by_rank(z, 4)"
   ]
  },
  {
   "cell_type": "code",
   "execution_count": 30,
   "id": "813bc28e",
   "metadata": {},
   "outputs": [],
   "source": [
    "#Create the combinations between the words in each tweets\n",
    "\n",
    "from itertools import combinations\n",
    "for i in range(0,len(x)):\n",
    "    if i==0:\n",
    "        comb=list(combinations(x[i], 2))\n",
    "    else:\n",
    "        comb[len(comb):]=list(combinations(x[i], 2))\n"
   ]
  },
  {
   "cell_type": "code",
   "execution_count": 31,
   "id": "a5ab389a",
   "metadata": {
    "scrolled": false
   },
   "outputs": [
    {
     "data": {
      "text/plain": [
       "500000"
      ]
     },
     "execution_count": 31,
     "metadata": {},
     "output_type": "execute_result"
    }
   ],
   "source": [
    "# Create counter of words in clean bigrams, choose the number of most_common\n",
    "\n",
    "bigram_counts = collections.Counter(comb)\n",
    "bigram_df = pd.DataFrame(bigram_counts.most_common(500000),\n",
    "                             columns=['bigram', 'count'])\n",
    "\n",
    "# Create dictionary of bigrams and their counts\n",
    "\n",
    "d = bigram_df.set_index('bigram').T.to_dict('records')\n",
    "d[0].items()\n",
    "len(d[0])"
   ]
  },
  {
   "cell_type": "code",
   "execution_count": 32,
   "id": "adda7791",
   "metadata": {
    "scrolled": true
   },
   "outputs": [
    {
     "data": {
      "text/plain": [
       "(13587, 410067)"
      ]
     },
     "execution_count": 32,
     "metadata": {},
     "output_type": "execute_result"
    }
   ],
   "source": [
    "# Create network plot\n",
    "G = nx.Graph()\n",
    "\n",
    "# Create connections between nodes using ranking as threshold\n",
    "for k, v in d[0].items():\n",
    "    if((4<rank.loc[k[0]]['Count'])&(4<rank.loc[k[1]]['Count'])):\n",
    "        G.add_edge(k[0], k[1], weight=(1/v))\n",
    "\n",
    "(G.number_of_nodes(),G.number_of_edges())"
   ]
  },
  {
   "cell_type": "code",
   "execution_count": 33,
   "id": "ec676f4c",
   "metadata": {},
   "outputs": [
    {
     "data": {
      "text/plain": [
       "(13587, 408172, 0.004422399980514969)"
      ]
     },
     "execution_count": 33,
     "metadata": {},
     "output_type": "execute_result"
    }
   ],
   "source": [
    "G.remove_edges_from(nx.selfloop_edges(G))\n",
    "(G.number_of_nodes(),G.number_of_edges(),nx.density(G))"
   ]
  },
  {
   "cell_type": "code",
   "execution_count": 34,
   "id": "943569f1",
   "metadata": {
    "scrolled": false
   },
   "outputs": [
    {
     "name": "stderr",
     "output_type": "stream",
     "text": [
      "C:\\Users\\emanu\\anaconda3\\lib\\site-packages\\powerlaw.py:699: RuntimeWarning: invalid value encountered in true_divide\n",
      "  (CDF_diff**2) /\n"
     ]
    },
    {
     "data": {
      "text/plain": [
       "(2.6468547710681714, 0.06501135059043525)"
      ]
     },
     "execution_count": 34,
     "metadata": {},
     "output_type": "execute_result"
    },
    {
     "data": {
      "image/png": "[encoded data removed]",
      "text/plain": [
       "<Figure size 640x480 with 1 Axes>"
      ]
     },
     "metadata": {},
     "output_type": "display_data"
    }
   ],
   "source": [
    "#Hist for degree distribution\n",
    "hist = nx.degree_histogram(G)\n",
    "\n",
    "#fit with a power-law NB: you can set a max_degree and min_degree\n",
    "fit = powerlaw.Fit(np.array(hist)+1,xmin=15, xmax=10000, discrete=True)\n",
    "fit.power_law.plot_pdf(color='r',linestyle='--',label='fit pdf')\n",
    "\n",
    "#reshape hist to use the MinMaxScaler and standardize the data\n",
    "histr=np.reshape(hist, (1,-1)).T\n",
    "scaler = preprocessing.MinMaxScaler()\n",
    "y=scaler.fit_transform(histr)\n",
    "\n",
    "#plot the degree distribution\n",
    "plt.plot(range(0, len(hist)), y,'.')\n",
    "plt.title(\"Degree Distribution\")\n",
    "plt.xlabel(\"Degree\")\n",
    "plt.ylabel(\"#Nodes\")\n",
    "# plt.ylim(-1,500)\n",
    "# plt.xlim(0,1)\n",
    "plt.loglog()\n",
    "# plt.show()\n",
    "#Take the x**(-alpha) from the fit parameter\n",
    "alpha=fit.power_law.alpha+1\n",
    "sigma=fit.power_law.sigma\n",
    "(alpha,sigma)"
   ]
  },
  {
   "cell_type": "code",
   "execution_count": 35,
   "id": "9b244229",
   "metadata": {
    "scrolled": false
   },
   "outputs": [
    {
     "name": "stderr",
     "output_type": "stream",
     "text": [
      "C:\\Users\\emanu\\AppData\\Local\\Temp\\ipykernel_6808\\718644843.py:15: RuntimeWarning: divide by zero encountered in log\n",
      "  y = np.log(hist)\n"
     ]
    },
    {
     "data": {
      "image/png": "[encoded data removed]",
      "text/plain": [
       "<Figure size 640x480 with 1 Axes>"
      ]
     },
     "metadata": {},
     "output_type": "display_data"
    },
    {
     "name": "stdout",
     "output_type": "stream",
     "text": [
      "Gamma=52.33877865021004\n"
     ]
    }
   ],
   "source": [
    "k = nx.degree_histogram(G)\n",
    "sig=np.array(k[1:])\n",
    "\n",
    "\n",
    "# define the function to fit\n",
    "def expfunc(x, a , b):\n",
    "    return a*pow(x,-b)\n",
    "\n",
    "# bin the degree distribution\n",
    "bins = np.arange(len(k))\n",
    "hist = nx.degree_histogram(G)\n",
    "\n",
    "# fit the logarithm of the degree distribution to a linear function\n",
    "x = bins[1:]\n",
    "y = np.log(hist)\n",
    "\n",
    "popt, pcov = curve_fit(expfunc, x, k[1:], sigma=(sig/1)+2, absolute_sigma=True)\n",
    "\n",
    "# plot the degree distribution and the fitted distribution on a logarithmic scale\n",
    "plt.plot(range(0, len(hist)), hist,'.',label='degree distribution')\n",
    "plt.plot(x, expfunc(x, *popt), 'r--', label='fitted distribution')\n",
    "plt.plot(x, expfunc(x, popt[0], 3.0), 'g--', label='gamma=3')\n",
    "plt.legend()\n",
    "plt.ylim( (10**-1,10**3.5) )\n",
    "plt.xlim( (10**0,10**3.5) )\n",
    "plt.xscale('log')\n",
    "plt.yscale('log')\n",
    "plt.show()\n",
    "\n",
    "# print the estimated value of b\n",
    "print(f\"Gamma={popt[1]}\")"
   ]
  },
  {
   "cell_type": "code",
   "execution_count": 36,
   "id": "da7d0f84",
   "metadata": {},
   "outputs": [],
   "source": [
    "nx.write_edgelist(G, \"word1_dict.edgelist\")"
   ]
  }
 ],
 "metadata": {
  "kernelspec": {
   "display_name": "Python 3 (ipykernel)",
   "language": "python",
   "name": "python3"
  },
  "language_info": {
   "codemirror_mode": {
    "name": "ipython",
    "version": 3
   },
   "file_extension": ".py",
   "mimetype": "text/x-python",
   "name": "python",
   "nbconvert_exporter": "python",
   "pygments_lexer": "ipython3",
   "version": "3.9.13"
  }
 },
 "nbformat": 4,
 "nbformat_minor": 5
}
